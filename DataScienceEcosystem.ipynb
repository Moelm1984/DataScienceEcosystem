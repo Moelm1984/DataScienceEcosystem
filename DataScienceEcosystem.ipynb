{
 "cells": [
  {
   "cell_type": "markdown",
   "id": "13939bc4-5c39-4878-ac8d-a0134a431711",
   "metadata": {},
   "source": [
    "# Data Science Tools Ecosystem"
   ]
  },
  {
   "cell_type": "markdown",
   "id": "ff012831-69c6-4d9d-a860-19acfef491de",
   "metadata": {},
   "source": [
    "## In this notebook, Data Science Tools and Ecosystem are summarized."
   ]
  },
  {
   "cell_type": "markdown",
   "id": "4ef9d964-2fe0-435d-9064-28892b0a6f9a",
   "metadata": {},
   "source": [
    "### Objectives"
   ]
  },
  {
   "cell_type": "markdown",
   "id": "0047d359-2910-403a-88ed-d094c0ff7c56",
   "metadata": {},
   "source": [
    "1. **Popular languages that data scienctists use.**\n",
    "2. **Some of commonly used libraries by Data scientists.**\n",
    "3. **Some of Data science Tools.**\n",
    "4. **few examples of evaluating arithmetic expressions in Python.**"
   ]
  },
  {
   "cell_type": "markdown",
   "id": "794ccf72-cef0-4d76-81e4-551995a02af3",
   "metadata": {},
   "source": [
    "## Some of the popular languages that Data Scientists use are:"
   ]
  },
  {
   "cell_type": "markdown",
   "id": "811242e4-72c4-4f26-ab88-a8e6d961ba0b",
   "metadata": {},
   "source": [
    "1. Phyton\n",
    "2. R\n",
    "3. SQL"
   ]
  },
  {
   "cell_type": "markdown",
   "id": "438050f6-931d-4936-890e-c3da05e20c58",
   "metadata": {},
   "source": [
    "## Some of the commonly used libraries used by Data Scientists include:\n"
   ]
  },
  {
   "cell_type": "markdown",
   "id": "e38dbbf1-4dc1-442f-a8c2-515a3261a377",
   "metadata": {},
   "source": [
    "1. pandas\n",
    "2. Numpy\n",
    "3. Scikit-learn"
   ]
  },
  {
   "cell_type": "markdown",
   "id": "68d02417-668b-4082-b5da-f5d30bc37343",
   "metadata": {},
   "source": [
    "## Data Science Tools in a table of one column\n",
    "\n",
    "| Data Science Tools |\n",
    "|---|\n",
    "| Jupyter Notebook |\n",
    "| PyCharm |\n",
    "| Visual Studio Code |"
   ]
  },
  {
   "cell_type": "markdown",
   "id": "77a5771e-3b7d-4bba-b70f-34ada4563706",
   "metadata": {},
   "source": [
    "### Below are a few examples of evaluating arithmetic expressions in Python"
   ]
  },
  {
   "cell_type": "code",
   "execution_count": 12,
   "id": "1ab8c850-69a7-48c9-b0d8-8c96d781739d",
   "metadata": {},
   "outputs": [
    {
     "data": {
      "text/plain": [
       "17"
      ]
     },
     "execution_count": 12,
     "metadata": {},
     "output_type": "execute_result"
    }
   ],
   "source": [
    "# This is a simple arithmetic expression to multiply then add integers.\n",
    "(3 * 4) + 5\n"
   ]
  },
  {
   "cell_type": "code",
   "execution_count": 13,
   "id": "a9f3492a-83ac-4ac1-8bf9-b133da7cc62b",
   "metadata": {},
   "outputs": [
    {
     "data": {
      "text/plain": [
       "3.3333333333333335"
      ]
     },
     "execution_count": 13,
     "metadata": {},
     "output_type": "execute_result"
    }
   ],
   "source": [
    "# This will convert 200 minutes to hours by diving by 60\n",
    "200/60"
   ]
  },
  {
   "cell_type": "markdown",
   "id": "c771c4b7-36c4-4545-bd09-962fd05c5055",
   "metadata": {},
   "source": [
    "## Author\n",
    "Mohamad Wael El Mohamad"
   ]
  },
  {
   "cell_type": "code",
   "execution_count": null,
   "id": "ab303d46-543f-4a08-936f-b95b1071aacf",
   "metadata": {},
   "outputs": [],
   "source": []
  },
  {
   "cell_type": "code",
   "execution_count": null,
   "id": "d6fc4f87-0487-449c-8e5c-5d1035c8f66b",
   "metadata": {},
   "outputs": [],
   "source": []
  }
 ],
 "metadata": {
  "kernelspec": {
   "display_name": "Python 3 (ipykernel)",
   "language": "python",
   "name": "python3"
  },
  "language_info": {
   "codemirror_mode": {
    "name": "ipython",
    "version": 3
   },
   "file_extension": ".py",
   "mimetype": "text/x-python",
   "name": "python",
   "nbconvert_exporter": "python",
   "pygments_lexer": "ipython3",
   "version": "3.11.9"
  }
 },
 "nbformat": 4,
 "nbformat_minor": 5
}
